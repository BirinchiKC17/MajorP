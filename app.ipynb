{
 "cells": [
  {
   "cell_type": "code",
   "execution_count": 11,
   "id": "2e3e8aef",
   "metadata": {},
   "outputs": [
    {
     "name": "stdout",
     "output_type": "stream",
     "text": [
      "Requirement already satisfied: pandas in .\\.conda\\lib\\site-packages (2.2.3)\n",
      "Requirement already satisfied: numpy>=1.23.2 in .\\.conda\\lib\\site-packages (from pandas) (2.2.6)\n",
      "Requirement already satisfied: python-dateutil>=2.8.2 in .\\.conda\\lib\\site-packages (from pandas) (2.9.0.post0)\n",
      "Requirement already satisfied: pytz>=2020.1 in .\\.conda\\lib\\site-packages (from pandas) (2025.2)\n",
      "Requirement already satisfied: tzdata>=2022.7 in .\\.conda\\lib\\site-packages (from pandas) (2025.2)\n",
      "Requirement already satisfied: six>=1.5 in .\\.conda\\lib\\site-packages (from python-dateutil>=2.8.2->pandas) (1.17.0)\n",
      "Note: you may need to restart the kernel to use updated packages.\n"
     ]
    }
   ],
   "source": [
    "pip install pandas\n"
   ]
  },
  {
   "cell_type": "code",
   "execution_count": 13,
   "id": "5f7df633",
   "metadata": {},
   "outputs": [
    {
     "name": "stdout",
     "output_type": "stream",
     "text": [
      "Requirement already satisfied: numpy in .\\.conda\\lib\\site-packages (2.2.6)\n",
      "Note: you may need to restart the kernel to use updated packages.\n"
     ]
    }
   ],
   "source": [
    "pip install numpy"
   ]
  },
  {
   "cell_type": "code",
   "execution_count": null,
   "id": "a8ff6f35",
   "metadata": {},
   "outputs": [
    {
     "name": "stdout",
     "output_type": "stream",
     "text": [
      "Collecting git+https://github.com/7ossam81/SwarmPackagePy.git\n",
      "  Cloning https://github.com/7ossam81/SwarmPackagePy.git to c:\\users\\dell\\appdata\\local\\temp\\pip-req-build-a_6anjth\n"
     ]
    },
    {
     "name": "stderr",
     "output_type": "stream",
     "text": [
      "  Running command git clone --filter=blob:none --quiet https://github.com/7ossam81/SwarmPackagePy.git 'C:\\Users\\Dell\\AppData\\Local\\Temp\\pip-req-build-a_6anjth'\n",
      "  remote: Repository not found.\n",
      "  fatal: repository 'https://github.com/7ossam81/SwarmPackagePy.git/' not found\n",
      "  error: subprocess-exited-with-error\n",
      "  \n",
      "  × git clone --filter=blob:none --quiet https://github.com/7ossam81/SwarmPackagePy.git 'C:\\Users\\Dell\\AppData\\Local\\Temp\\pip-req-build-a_6anjth' did not run successfully.\n",
      "  │ exit code: 128\n",
      "  ╰─> See above for output.\n",
      "  \n",
      "  note: This error originates from a subprocess, and is likely not a problem with pip.\n",
      "error: subprocess-exited-with-error\n",
      "\n",
      "× git clone --filter=blob:none --quiet https://github.com/7ossam81/SwarmPackagePy.git 'C:\\Users\\Dell\\AppData\\Local\\Temp\\pip-req-build-a_6anjth' did not run successfully.\n",
      "│ exit code: 128\n",
      "╰─> See above for output.\n",
      "\n",
      "note: This error originates from a subprocess, and is likely not a problem with pip.\n"
     ]
    }
   ],
   "source": [
    "pip install scikit-learn\n",
    "## note i installed pip install matplotlic and swarmpackagepy in terminal meaning in project\n"
   ]
  },
  {
   "cell_type": "code",
   "execution_count": 2,
   "id": "18424296",
   "metadata": {},
   "outputs": [
    {
     "name": "stdout",
     "output_type": "stream",
     "text": [
      "Best fitness (1 - accuracy): 0.21661237785016285\n",
      "Best weights: [0.60076423 0.3623682  0.80449704 0.60215539 0.03811673 0.93484275\n",
      " 0.54915823 0.07304977]\n",
      "Test Accuracy: 0.7857\n",
      "\n",
      "Enter patient details to predict diabetes:\n",
      "Prediction: Diabetic\n"
     ]
    },
    {
     "name": "stderr",
     "output_type": "stream",
     "text": [
      "d:\\diabetes_project\\.conda\\Lib\\site-packages\\sklearn\\utils\\validation.py:2739: UserWarning: X does not have valid feature names, but StandardScaler was fitted with feature names\n",
      "  warnings.warn(\n"
     ]
    }
   ],
   "source": [
    "# Required Libraries:\n",
    "# pip install numpy pandas scikit-learn\n",
    "\n",
    "import numpy as np\n",
    "import pandas as pd\n",
    "import math\n",
    "from sklearn.model_selection import train_test_split\n",
    "from sklearn.preprocessing import StandardScaler\n",
    "from sklearn.linear_model import LogisticRegression\n",
    "from sklearn.metrics import accuracy_score\n",
    "\n",
    "# --- Cuckoo Search Implementation ---\n",
    "def levy_flight(Lambda):\n",
    "    sigma = (math.gamma(1 + Lambda) * math.sin(math.pi * Lambda / 2) /\n",
    "             (math.gamma((1 + Lambda) / 2) * Lambda * 2 ** ((Lambda - 1) / 2))) ** (1 / Lambda)\n",
    "    u = np.random.normal(0, sigma, size=1)\n",
    "    v = np.random.normal(0, 1, size=1)\n",
    "    step = u / (np.abs(v) ** (1 / Lambda))\n",
    "    return step\n",
    "\n",
    "class CuckooSearch:\n",
    "    def __init__(self, obj_func, num_nests=15, dimensions=8, iterations=100, pa=0.25, alpha=0.01):\n",
    "        self.obj_func = obj_func\n",
    "        self.num_nests = num_nests\n",
    "        self.dimensions = dimensions\n",
    "        self.iterations = iterations\n",
    "        self.pa = pa\n",
    "        self.alpha = alpha\n",
    "\n",
    "    def initialize_nests(self):\n",
    "        return np.random.rand(self.num_nests, self.dimensions)\n",
    "\n",
    "    def get_best_nest(self, nests, fitness):\n",
    "        idx = np.argmin(fitness)\n",
    "        return nests[idx].copy(), fitness[idx]\n",
    "\n",
    "    def empty_nests(self, nests, fitness):\n",
    "        K = np.random.rand(*nests.shape) > self.pa\n",
    "        new_nests = nests + 0.01 * np.random.randn(*nests.shape) * K\n",
    "        new_nests = np.clip(new_nests, 0, 1)\n",
    "        new_fitness = np.array([self.obj_func(n) for n in new_nests])\n",
    "        improved = new_fitness < fitness\n",
    "        fitness[improved] = new_fitness[improved]\n",
    "        nests[improved] = new_nests[improved]\n",
    "        return nests, fitness\n",
    "\n",
    "    def run(self):\n",
    "        nests = self.initialize_nests()\n",
    "        fitness = np.array([self.obj_func(n) for n in nests])\n",
    "        best_nest, best_fitness = self.get_best_nest(nests, fitness)\n",
    "\n",
    "        for _ in range(self.iterations):\n",
    "            for i in range(self.num_nests):\n",
    "                step = levy_flight(1.5)\n",
    "                step = step * (nests[i] - best_nest)\n",
    "                new_nest = nests[i] + self.alpha * step\n",
    "                new_nest = np.clip(new_nest, 0, 1)\n",
    "                new_fitness = self.obj_func(new_nest)\n",
    "                if new_fitness < fitness[i]:\n",
    "                    fitness[i] = new_fitness\n",
    "                    nests[i] = new_nest\n",
    "                if new_fitness < best_fitness:\n",
    "                    best_nest = new_nest.copy()\n",
    "                    best_fitness = new_fitness\n",
    "            nests, fitness = self.empty_nests(nests, fitness)\n",
    "\n",
    "        return best_nest, best_fitness\n",
    "\n",
    "# --- Load Dataset ---\n",
    "df = pd.read_csv(\"diabetes.csv\")\n",
    "X = df.drop(\"Outcome\", axis=1)\n",
    "y = df[\"Outcome\"]\n",
    "\n",
    "scaler = StandardScaler()\n",
    "X_scaled = scaler.fit_transform(X)\n",
    "\n",
    "X_train, X_test, y_train, y_test = train_test_split(\n",
    "    X_scaled, y, test_size=0.2, random_state=42\n",
    ")\n",
    "\n",
    "# --- Objective function for Cuckoo Search ---\n",
    "def objective_function(weights):\n",
    "    X_weighted = X_train * weights\n",
    "    model = LogisticRegression(max_iter=200)\n",
    "    model.fit(X_weighted, y_train)\n",
    "    y_pred = model.predict(X_weighted)\n",
    "    return 1 - accuracy_score(y_train, y_pred)\n",
    "\n",
    "# --- Run Cuckoo Search ---\n",
    "cs = CuckooSearch(\n",
    "    obj_func=objective_function,\n",
    "    num_nests=15,\n",
    "    dimensions=X_train.shape[1],\n",
    "    iterations=100,\n",
    "    alpha=0.01,\n",
    "    pa=0.25\n",
    ")\n",
    "\n",
    "best_weights, best_score = cs.run()\n",
    "\n",
    "print(\"Best fitness (1 - accuracy):\", best_score)\n",
    "print(\"Best weights:\", best_weights)\n",
    "\n",
    "# --- Train final model ---\n",
    "final_model = LogisticRegression(max_iter=200)\n",
    "final_model.fit(X_train * best_weights, y_train)\n",
    "y_pred_test = final_model.predict(X_test * best_weights)\n",
    "test_acc = accuracy_score(y_test, y_pred_test)\n",
    "print(f\"Test Accuracy: {test_acc:.4f}\")\n",
    "\n",
    "# --- Predict diabetes on user input ---\n",
    "features = ['Pregnancies', 'Glucose', 'BloodPressure', 'SkinThickness',\n",
    "            'Insulin', 'BMI', 'DiabetesPedigreeFunction', 'Age']\n",
    "\n",
    "print(\"\\nEnter patient details to predict diabetes:\")\n",
    "\n",
    "user_input = [float(input(f\"{feature}: \")) for feature in features]\n",
    "user_scaled = scaler.transform([user_input])\n",
    "user_weighted = user_scaled * best_weights\n",
    "prediction = final_model.predict(user_weighted)\n",
    "print(\"Prediction:\", \"Diabetic\" if prediction[0] == 1 else \"Not Diabetic\")\n"
   ]
  }
 ],
 "metadata": {
  "kernelspec": {
   "display_name": "Python 3",
   "language": "python",
   "name": "python3"
  },
  "language_info": {
   "codemirror_mode": {
    "name": "ipython",
    "version": 3
   },
   "file_extension": ".py",
   "mimetype": "text/x-python",
   "name": "python",
   "nbconvert_exporter": "python",
   "pygments_lexer": "ipython3",
   "version": "3.11.11"
  }
 },
 "nbformat": 4,
 "nbformat_minor": 5
}
